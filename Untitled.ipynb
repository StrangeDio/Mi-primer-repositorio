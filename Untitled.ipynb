{
 "cells": [
  {
   "cell_type": "markdown",
   "id": "ff632a06-9630-4f62-b2ab-afdb11aecb15",
   "metadata": {},
   "source": [
    "# Data Science Tools and Ecosystem"
   ]
  },
  {
   "cell_type": "markdown",
   "id": "daeb14b1-39ff-4b93-820b-bbc8c334fa06",
   "metadata": {},
   "source": [
    "## In this notebook, Data Science Tools and Ecosystem are summarized."
   ]
  },
  {
   "cell_type": "markdown",
   "id": "e861bcae-7368-4558-a0f7-cdb04fc4b287",
   "metadata": {},
   "source": [
    "**Objectives:**\n",
    "\n",
    "- Python\n",
    "- Scala\n",
    "- Jupyter Notebooks"
   ]
  },
  {
   "cell_type": "markdown",
   "id": "6c717f55-735a-458b-b3d6-18c0905cdb7c",
   "metadata": {},
   "source": [
    "## Author: ##\n",
    "\n",
    "Roberto Rodriguez Solorzano"
   ]
  },
  {
   "cell_type": "markdown",
   "id": "293bf137-8e8c-49d5-b540-51e8b4567b51",
   "metadata": {},
   "source": [
    "Some of the popular languages that Data Scientists use are:\n",
    "1. Python\n",
    "2. SQL\n",
    "3. Scala\n",
    "4. Java"
   ]
  },
  {
   "cell_type": "markdown",
   "id": "f4485f36-56bf-456c-a7cd-b0b7dbc01981",
   "metadata": {},
   "source": [
    "Some of the commonly used libraries used by Data Scientists include:\n",
    "\n",
    "1. Seaborn\n",
    "2. Pandas\n",
    "3. Scikit-Learn\n",
    "   "
   ]
  },
  {
   "cell_type": "markdown",
   "id": "ea815167-9114-47f8-b421-de0d21c8856d",
   "metadata": {},
   "source": [
    "| Data Science Tools |\n",
    "|--------------------|\n",
    "| Jupyter Notebook   |\n",
    "| Google colab       |\n",
    "| Anaconda           |"
   ]
  },
  {
   "cell_type": "markdown",
   "id": "c34386e0-d94b-4da4-ad56-0d9718651c47",
   "metadata": {},
   "source": [
    "### Below are a few examples of evaluating arithmetic expressions in Python."
   ]
  },
  {
   "cell_type": "code",
   "execution_count": 12,
   "id": "5221608d-5f8a-4061-ae1b-b16357e77625",
   "metadata": {},
   "outputs": [
    {
     "data": {
      "text/plain": [
       "17"
      ]
     },
     "execution_count": 12,
     "metadata": {},
     "output_type": "execute_result"
    }
   ],
   "source": [
    "# This a simple arithmetic expression to mutiply then add integers\n",
    "(3*4)+5"
   ]
  },
  {
   "cell_type": "code",
   "execution_count": 16,
   "id": "f345d3b3-55aa-4e7e-ab3f-fcf8395a84cc",
   "metadata": {},
   "outputs": [
    {
     "name": "stdout",
     "output_type": "stream",
     "text": [
      "3.3 hours\n"
     ]
    }
   ],
   "source": [
    "minutes = 200\n",
    "hours = minutes / 60\n",
    "print(f\"{hours:.1f} hours\")"
   ]
  },
  {
   "cell_type": "code",
   "execution_count": null,
   "id": "15b6fe70-0466-441f-8884-ac3ff87077b2",
   "metadata": {},
   "outputs": [],
   "source": []
  }
 ],
 "metadata": {
  "kernelspec": {
   "display_name": "Python 3 (ipykernel)",
   "language": "python",
   "name": "python3"
  },
  "language_info": {
   "codemirror_mode": {
    "name": "ipython",
    "version": 3
   },
   "file_extension": ".py",
   "mimetype": "text/x-python",
   "name": "python",
   "nbconvert_exporter": "python",
   "pygments_lexer": "ipython3",
   "version": "3.12.4"
  }
 },
 "nbformat": 4,
 "nbformat_minor": 5
}
